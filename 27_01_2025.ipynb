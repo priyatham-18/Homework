{
  "nbformat": 4,
  "nbformat_minor": 0,
  "metadata": {
    "colab": {
      "provenance": [],
      "authorship_tag": "ABX9TyMiY3xoRwjSG0qxpbmBy3rK",
      "include_colab_link": true
    },
    "kernelspec": {
      "name": "python3",
      "display_name": "Python 3"
    },
    "language_info": {
      "name": "python"
    }
  },
  "cells": [
    {
      "cell_type": "markdown",
      "metadata": {
        "id": "view-in-github",
        "colab_type": "text"
      },
      "source": [
        "<a href=\"https://colab.research.google.com/github/priyatham-18/Homework/blob/main/27_01_2025.ipynb\" target=\"_parent\"><img src=\"https://colab.research.google.com/assets/colab-badge.svg\" alt=\"Open In Colab\"/></a>"
      ]
    },
    {
      "source": [
        "import pandas as pd\n",
        "from sklearn.preprocessing import MinMaxScaler # Changed MinMaxScalar to MinMaxScaler\n",
        "\n",
        "data = {\n",
        "    'age':[20,25,30,35,40],\n",
        "    'height':[170,175,180,185,190],\n",
        "    'weight':[60,65,70,75,80]\n",
        "}\n",
        "df = pd.DataFrame(data)\n",
        "print(\"Original data\")\n",
        "print(df)\n",
        "scaler = MinMaxScaler()\n",
        "df_scaled = scaler.fit_transform(df)\n",
        "scaled_df=pd.DataFrame(df_scaled,columns=df.columns) # Changed scaled_data to df_scaled\n",
        "print(\"Scaled data\")\n",
        "print(df_scaled)"
      ],
      "cell_type": "code",
      "metadata": {
        "colab": {
          "base_uri": "https://localhost:8080/"
        },
        "id": "VQ2TPW_cUeqH",
        "outputId": "06981f9f-647a-4a7c-c9d3-42c0719eb5b1"
      },
      "execution_count": 11,
      "outputs": [
        {
          "output_type": "stream",
          "name": "stdout",
          "text": [
            "Original data\n",
            "   age  height  weight\n",
            "0   20     170      60\n",
            "1   25     175      65\n",
            "2   30     180      70\n",
            "3   35     185      75\n",
            "4   40     190      80\n",
            "Scaled data\n",
            "[[0.   0.   0.  ]\n",
            " [0.25 0.25 0.25]\n",
            " [0.5  0.5  0.5 ]\n",
            " [0.75 0.75 0.75]\n",
            " [1.   1.   1.  ]]\n"
          ]
        }
      ]
    },
    {
      "cell_type": "code",
      "source": [
        "import pandas as pd\n",
        "from sklearn.preprocessing import StandardScaler\n",
        "\n",
        "data = {\n",
        "    'age':[20,25,30,35,40],\n",
        "    'height':[170,175,180,185,190],\n",
        "    'weight':[60,65,70,75,80]\n",
        "}\n",
        "df = pd.DataFrame(data)\n",
        "print(\"Original data\")\n",
        "print(df)\n",
        "scaler = StandardScaler()\n",
        "df_scaled = scaler.fit_transform(df)\n",
        "scaled_df=pd.DataFrame(df_scaled,columns=df.columns)\n",
        "print(\"Scaled data\")\n",
        "print(df_scaled)"
      ],
      "metadata": {
        "colab": {
          "base_uri": "https://localhost:8080/"
        },
        "id": "GabgL3LuVsLQ",
        "outputId": "a2a287de-a854-4381-f119-cce9691789d8"
      },
      "execution_count": 12,
      "outputs": [
        {
          "output_type": "stream",
          "name": "stdout",
          "text": [
            "Original data\n",
            "   age  height  weight\n",
            "0   20     170      60\n",
            "1   25     175      65\n",
            "2   30     180      70\n",
            "3   35     185      75\n",
            "4   40     190      80\n",
            "Scaled data\n",
            "[[-1.41421356 -1.41421356 -1.41421356]\n",
            " [-0.70710678 -0.70710678 -0.70710678]\n",
            " [ 0.          0.          0.        ]\n",
            " [ 0.70710678  0.70710678  0.70710678]\n",
            " [ 1.41421356  1.41421356  1.41421356]]\n"
          ]
        }
      ]
    },
    {
      "cell_type": "code",
      "source": [],
      "metadata": {
        "id": "-fo4JkukW0B8"
      },
      "execution_count": null,
      "outputs": []
    }
  ]
}